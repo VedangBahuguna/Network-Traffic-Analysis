{
 "cells": [
  {
   "cell_type": "code",
   "execution_count": 1,
   "id": "fc39f426-406c-49b0-b98e-a8996585e4a5",
   "metadata": {},
   "outputs": [],
   "source": [
    "import matplotlib.pylab as plt\n",
    "from PIL import Image\n",
    "from io import BytesIO\n",
    "import gzip"
   ]
  },
  {
   "cell_type": "code",
   "execution_count": 2,
   "id": "0f1b4fe5-6439-42d6-9e27-3bcf75744268",
   "metadata": {},
   "outputs": [],
   "source": [
    "def extract_packets():\n",
    "    allpackets = []\n",
    "    with open('htmlhexdump.txt', 'r') as file:\n",
    "        packet = ''\n",
    "        for line in file:\n",
    "            temp = line.split('  ')\n",
    "            if len(temp) >= 3:\n",
    "                if(temp[0].startswith('0000')):\n",
    "                    packet = ''\n",
    "                packet += ''.join(temp[1].split(' '))\n",
    "            if len(temp) == 1:\n",
    "                allpackets.append(packet)\n",
    "    return allpackets"
   ]
  },
  {
   "cell_type": "code",
   "execution_count": 3,
   "id": "728a0859-37d1-47a3-b45e-b1ffe1145122",
   "metadata": {},
   "outputs": [],
   "source": [
    "def parse_packet(data):\n",
    "    hexdata = bytes.fromhex(data)\n",
    "    \n",
    "    #/* handling frame header */\n",
    "    ethernet_header_len = 14\n",
    "    \n",
    "    #/* handling IP headers */\n",
    "    ipheader_offset = ethernet_header_len\n",
    "    ipheader = hexdata[ipheader_offset: ipheader_offset+20]\n",
    "    ipheader_len = (ipheader[0] & 0x0F)*4\n",
    "    \n",
    "    #/* handling TCP segment header */\n",
    "    tcpheader_offset = ethernet_header_len + ipheader_len\n",
    "    tcpheader = hexdata[tcpheader_offset: tcpheader_offset+20]\n",
    "    tcplen = ((tcpheader[12] >> 4) & 0x0F) * 4\n",
    "    \n",
    "    httpheader_offset = tcpheader_offset + tcplen\n",
    "    httpdata = hexdata[httpheader_offset:]\n",
    "    return httpdata"
   ]
  },
  {
   "cell_type": "code",
   "execution_count": 4,
   "id": "5e92c721-df84-44d3-a55e-11eaefcc3bd9",
   "metadata": {},
   "outputs": [],
   "source": [
    "pkts = extract_packets()\n",
    "httpdata = b''\n",
    "for pkt in pkts:\n",
    "    httpdata += parse_packet(pkt)\n",
    "\n",
    "\n",
    "offset = httpdata.find(b'\\r\\n\\r\\n') + 4\n",
    "mydata = httpdata[offset:]"
   ]
  },
  {
   "cell_type": "code",
   "execution_count": 5,
   "id": "0d35c281-60dd-40b7-a0d9-62d8a005aa65",
   "metadata": {},
   "outputs": [
    {
     "name": "stdout",
     "output_type": "stream",
     "text": [
      "Length of the compressed data is :  34066  bytes\n"
     ]
    }
   ],
   "source": [
    "print(\"Length of the compressed data is : \", len(mydata), \" bytes\")"
   ]
  },
  {
   "cell_type": "code",
   "execution_count": 6,
   "id": "d5ea78c6-530c-44db-83c5-0e7889300f8d",
   "metadata": {},
   "outputs": [
    {
     "name": "stdout",
     "output_type": "stream",
     "text": [
      "Length of the uncompresed data is :  171296  bytes\n"
     ]
    }
   ],
   "source": [
    "print(\"Length of the uncompresed data is : \", len(gzip.decompress(mydata)), \" bytes\")"
   ]
  },
  {
   "cell_type": "code",
   "execution_count": 7,
   "id": "365db238-bfa1-4a6e-b145-2873698a1ef6",
   "metadata": {},
   "outputs": [
    {
     "name": "stdout",
     "output_type": "stream",
     "text": [
      "Ratio of decompressed data to compressed data is :  5.028356719309576\n"
     ]
    }
   ],
   "source": [
    "print(\"Ratio of decompressed data to compressed data is : \", len(gzip.decompress(mydata))/len(mydata))"
   ]
  }
 ],
 "metadata": {
  "kernelspec": {
   "display_name": "Python 3 (ipykernel)",
   "language": "python",
   "name": "python3"
  },
  "language_info": {
   "codemirror_mode": {
    "name": "ipython",
    "version": 3
   },
   "file_extension": ".py",
   "mimetype": "text/x-python",
   "name": "python",
   "nbconvert_exporter": "python",
   "pygments_lexer": "ipython3",
   "version": "3.10.12"
  }
 },
 "nbformat": 4,
 "nbformat_minor": 5
}
